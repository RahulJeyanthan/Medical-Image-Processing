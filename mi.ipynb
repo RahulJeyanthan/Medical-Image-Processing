{
 "cells": [
  {
   "cell_type": "code",
   "execution_count": 2,
   "metadata": {},
   "outputs": [],
   "source": [
    "import itk\n",
    "from itkwidgets import view"
   ]
  },
  {
   "cell_type": "code",
   "execution_count": 3,
   "metadata": {},
   "outputs": [
    {
     "data": {
      "application/vnd.jupyter.widget-view+json": {
       "model_id": "89ea68d92fa842dd927d21a6028656af",
       "version_major": 2,
       "version_minor": 0
      },
      "text/plain": [
       "Viewer(geometries=[], gradient_opacity=0.8, point_sets=[], rendered_image=<itk.itkImagePython.itkImageF3; prox…"
      ]
     },
     "execution_count": 3,
     "metadata": {},
     "output_type": "execute_result"
    }
   ],
   "source": [
    "file_name = 'data/brainweb165a10f17.mha'\n",
    "image = itk.imread(file_name, itk.ctype('float'))\n",
    "view(image, slicing_planes=True, gradient_opacity=0.8, ui_collapsed=True)"
   ]
  },
  {
   "cell_type": "code",
   "execution_count": null,
   "metadata": {},
   "outputs": [],
   "source": []
  },
  {
   "cell_type": "code",
   "execution_count": 33,
   "metadata": {},
   "outputs": [],
   "source": [
    "import numpy as np\n",
    "import itk\n",
    "from itkwidgets import view\n",
    "from ipywidgets import interactive\n",
    "import ipywidgets as widgets"
   ]
  },
  {
   "cell_type": "code",
   "execution_count": null,
   "metadata": {},
   "outputs": [],
   "source": []
  },
  {
   "cell_type": "code",
   "execution_count": 34,
   "metadata": {},
   "outputs": [
    {
     "ename": "TemplateTypeError",
     "evalue": "itk.RecursiveGaussianImageFilter is not wrapped for input type `None`.\n\nTo limit the size of the package, only a limited number of\ntypes are available in ITK Python. To print the supported\ntypes, run the following command in your python environment:\n\n    itk.RecursiveGaussianImageFilter.GetTypes()\n\nPossible solutions:\n* If you are an application user:\n** Convert your input image into a supported format (see below).\n** Contact developer to report the issue.\n* If you are an application developer, force input images to be\nloaded in a supported pixel type.\n\n    e.g.: instance = itk.RecursiveGaussianImageFilter[itk.Image[itk.SS,2], itk.Image[itk.SS,2]].New(my_input)\n\n* (Advanced) If you are an application developer, build ITK Python yourself and\nturned to `ON` the corresponding CMake option to wrap the pixel type or image\ndimension you need. When configuring ITK with CMake, you can set\n`ITK_WRAP_${type}` (replace ${type} with appropriate pixel type such as\n`double`). If you need to support images with 4 or 5 dimensions, you can add\nthese dimensions to the list of dimensions in the CMake variable\n`ITK_WRAP_IMAGE_DIMS`.\n\nSupported input types:\n\nitk.Image[itk.SS,2]\nitk.Image[itk.SS,3]\nitk.Image[itk.SS,4]\nitk.Image[itk.UC,2]\nitk.Image[itk.UC,3]\nitk.Image[itk.UC,4]\nitk.Image[itk.US,2]\nitk.Image[itk.US,3]\nitk.Image[itk.US,4]\nitk.Image[itk.F,2]\nitk.Image[itk.F,3]\nitk.Image[itk.F,4]\nitk.Image[itk.D,2]\nitk.Image[itk.D,3]\nitk.Image[itk.D,4]\n",
     "output_type": "error",
     "traceback": [
      "\u001b[1;31m---------------------------------------------------------------------------\u001b[0m",
      "\u001b[1;31mTemplateTypeError\u001b[0m                         Traceback (most recent call last)",
      "Cell \u001b[1;32mIn [34], line 3\u001b[0m\n\u001b[0;32m      1\u001b[0m file_name \u001b[39m=\u001b[39m \u001b[39m'\u001b[39m\u001b[39mdata/BrainProtonDensitySlice.png\u001b[39m\u001b[39m'\u001b[39m\n\u001b[0;32m      2\u001b[0m reader \u001b[39m=\u001b[39m itk\u001b[39m.\u001b[39mImageFileReader\u001b[39m.\u001b[39mNew(FileName\u001b[39m=\u001b[39mfile_name)\n\u001b[1;32m----> 3\u001b[0m smoother \u001b[39m=\u001b[39m itk\u001b[39m.\u001b[39;49mRecursiveGaussianImageFilter\u001b[39m.\u001b[39;49mNew(Input\u001b[39m=\u001b[39;49mreader\u001b[39m.\u001b[39;49mGetOutput())\n",
      "File \u001b[1;32mc:\\Python38\\mi\\lib\\site-packages\\itk\\support\\template_class.py:733\u001b[0m, in \u001b[0;36mitkTemplate.New\u001b[1;34m(self, *args, **kwargs)\u001b[0m\n\u001b[0;32m    730\u001b[0m     \u001b[39melse\u001b[39;00m:\n\u001b[0;32m    731\u001b[0m         \u001b[39mimport\u001b[39;00m \u001b[39mitk\u001b[39;00m\n\u001b[1;32m--> 733\u001b[0m         \u001b[39mraise\u001b[39;00m itk\u001b[39m.\u001b[39mTemplateTypeError(\u001b[39mself\u001b[39m, input_type)\n\u001b[0;32m    734\u001b[0m \u001b[39mreturn\u001b[39;00m \u001b[39mself\u001b[39m[\u001b[39mlist\u001b[39m(keys)[\u001b[39m0\u001b[39m]]\u001b[39m.\u001b[39mNew(\u001b[39m*\u001b[39margs, \u001b[39m*\u001b[39m\u001b[39m*\u001b[39mkwargs)\n",
      "\u001b[1;31mTemplateTypeError\u001b[0m: itk.RecursiveGaussianImageFilter is not wrapped for input type `None`.\n\nTo limit the size of the package, only a limited number of\ntypes are available in ITK Python. To print the supported\ntypes, run the following command in your python environment:\n\n    itk.RecursiveGaussianImageFilter.GetTypes()\n\nPossible solutions:\n* If you are an application user:\n** Convert your input image into a supported format (see below).\n** Contact developer to report the issue.\n* If you are an application developer, force input images to be\nloaded in a supported pixel type.\n\n    e.g.: instance = itk.RecursiveGaussianImageFilter[itk.Image[itk.SS,2], itk.Image[itk.SS,2]].New(my_input)\n\n* (Advanced) If you are an application developer, build ITK Python yourself and\nturned to `ON` the corresponding CMake option to wrap the pixel type or image\ndimension you need. When configuring ITK with CMake, you can set\n`ITK_WRAP_${type}` (replace ${type} with appropriate pixel type such as\n`double`). If you need to support images with 4 or 5 dimensions, you can add\nthese dimensions to the list of dimensions in the CMake variable\n`ITK_WRAP_IMAGE_DIMS`.\n\nSupported input types:\n\nitk.Image[itk.SS,2]\nitk.Image[itk.SS,3]\nitk.Image[itk.SS,4]\nitk.Image[itk.UC,2]\nitk.Image[itk.UC,3]\nitk.Image[itk.UC,4]\nitk.Image[itk.US,2]\nitk.Image[itk.US,3]\nitk.Image[itk.US,4]\nitk.Image[itk.F,2]\nitk.Image[itk.F,3]\nitk.Image[itk.F,4]\nitk.Image[itk.D,2]\nitk.Image[itk.D,3]\nitk.Image[itk.D,4]\n"
     ]
    }
   ],
   "source": [
    "file_name = 'data/BrainProtonDensitySlice.png'\n",
    "reader = itk.ImageFileReader.New(FileName=file_name)\n",
    "smoother = itk.RecursiveGaussianImageFilter.New(Input=reader.GetOutput())"
   ]
  },
  {
   "cell_type": "code",
   "execution_count": null,
   "metadata": {},
   "outputs": [],
   "source": []
  },
  {
   "cell_type": "code",
   "execution_count": null,
   "metadata": {},
   "outputs": [],
   "source": []
  }
 ],
 "metadata": {
  "kernelspec": {
   "display_name": "Python 3.8.15 ('Medical')",
   "language": "python",
   "name": "python3"
  },
  "language_info": {
   "codemirror_mode": {
    "name": "ipython",
    "version": 3
   },
   "file_extension": ".py",
   "mimetype": "text/x-python",
   "name": "python",
   "nbconvert_exporter": "python",
   "pygments_lexer": "ipython3",
   "version": "3.8.15"
  },
  "orig_nbformat": 4,
  "vscode": {
   "interpreter": {
    "hash": "ec4f58dc73515f8094c8f82164e1fc7553ca8802971ec9173e4a9a8ebedb5c97"
   }
  }
 },
 "nbformat": 4,
 "nbformat_minor": 2
}
