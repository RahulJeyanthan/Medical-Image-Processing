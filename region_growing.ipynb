{
 "cells": [
  {
   "cell_type": "code",
   "execution_count": 1,
   "metadata": {},
   "outputs": [],
   "source": [
    "import numpy as np\n",
    "import argparse\n",
    "import itk\n",
    "from itkwidgets import view\n",
    "from ipywidgets import interactive\n",
    "import ipywidgets as widgets"
   ]
  },
  {
   "cell_type": "code",
   "execution_count": 2,
   "metadata": {},
   "outputs": [],
   "source": [
    "PixelType = itk.ctype('float')\n",
    "image = itk.imread(\"data/BrainProtonDensitySlice.png\", PixelType)"
   ]
  },
  {
   "cell_type": "markdown",
   "metadata": {},
   "source": [
    "Connected Threshold Image Filter"
   ]
  },
  {
   "cell_type": "code",
   "execution_count": 3,
   "metadata": {},
   "outputs": [],
   "source": [
    "connected_threshold = itk.ConnectedThresholdImageFilter.New(image)\n"
   ]
  },
  {
   "cell_type": "code",
   "execution_count": 4,
   "metadata": {},
   "outputs": [],
   "source": [
    "connected_threshold.SetLower(150)\n",
    "connected_threshold.SetUpper(180)\n",
    "connected_threshold.SetReplaceValue(255)\n",
    "connected_threshold.SetSeed((60,116))"
   ]
  },
  {
   "cell_type": "code",
   "execution_count": 5,
   "metadata": {},
   "outputs": [
    {
     "data": {
      "application/vnd.jupyter.widget-view+json": {
       "model_id": "ef9914c622f34da8b5c8dcd088f77893",
       "version_major": 2,
       "version_minor": 0
      },
      "text/plain": [
       "Viewer(geometries=[], gradient_opacity=0.22, point_sets=[], rendered_image=<itk.itkImagePython.itkImageF2; pro…"
      ]
     },
     "execution_count": 5,
     "metadata": {},
     "output_type": "execute_result"
    }
   ],
   "source": [
    "view(image)"
   ]
  },
  {
   "cell_type": "code",
   "execution_count": 6,
   "metadata": {},
   "outputs": [
    {
     "data": {
      "application/vnd.jupyter.widget-view+json": {
       "model_id": "f07c9e745483473c86653a998001f88c",
       "version_major": 2,
       "version_minor": 0
      },
      "text/plain": [
       "Viewer(geometries=[], gradient_opacity=0.22, point_sets=[], rendered_image=<itk.itkImagePython.itkImageF2; pro…"
      ]
     },
     "execution_count": 6,
     "metadata": {},
     "output_type": "execute_result"
    }
   ],
   "source": [
    "connected_threshold.Update()\n",
    "view(connected_threshold)"
   ]
  },
  {
   "cell_type": "markdown",
   "metadata": {},
   "source": [
    "Otsu Segmentation"
   ]
  },
  {
   "cell_type": "code",
   "execution_count": 7,
   "metadata": {},
   "outputs": [],
   "source": [
    "otsu_segmentation = itk.OtsuThresholdImageFilter.New(image)\n",
    "otsu_segmentation.SetOutsideValue(0)\n",
    "otsu_segmentation.SetInsideValue(255)"
   ]
  },
  {
   "cell_type": "code",
   "execution_count": 8,
   "metadata": {},
   "outputs": [
    {
     "data": {
      "application/vnd.jupyter.widget-view+json": {
       "model_id": "0df34f98efac46d3b39e127c0ec562e8",
       "version_major": 2,
       "version_minor": 0
      },
      "text/plain": [
       "Viewer(geometries=[], gradient_opacity=0.22, point_sets=[], rendered_image=<itk.itkImagePython.itkImageSS2; pr…"
      ]
     },
     "execution_count": 8,
     "metadata": {},
     "output_type": "execute_result"
    }
   ],
   "source": [
    "otsu_segmentation.Update()\n",
    "view(otsu_segmentation)"
   ]
  },
  {
   "cell_type": "code",
   "execution_count": 9,
   "metadata": {},
   "outputs": [],
   "source": [
    "PixelType = itk.UC\n",
    "Dimension = 2\n",
    "file_name = 'data/BrainProtonDensitySlice.png'\n",
    "\n",
    "ImageType = itk.Image[PixelType, Dimension]\n",
    "\n",
    "reader = itk.ImageFileReader[ImageType].New()\n",
    "reader.SetFileName(file_name)\n",
    "\n",
    "thresholdFilter = itk.OtsuMultipleThresholdsImageFilter[ImageType, ImageType].New()\n",
    "thresholdFilter.SetInput(reader.GetOutput())\n",
    "\n",
    "thresholdFilter.SetNumberOfHistogramBins(128)\n",
    "thresholdFilter.SetNumberOfThresholds(2)\n",
    "thresholdFilter.SetLabelOffset(2)\n",
    "\n",
    "rescaler = itk.RescaleIntensityImageFilter[ImageType, ImageType].New()\n",
    "rescaler.SetInput(thresholdFilter.GetOutput())\n",
    "rescaler.SetOutputMinimum(0)\n",
    "rescaler.SetOutputMaximum(255)\n",
    "\n",
    "\n",
    "\n",
    "rescaler.Update()"
   ]
  },
  {
   "cell_type": "code",
   "execution_count": 10,
   "metadata": {},
   "outputs": [
    {
     "data": {
      "application/vnd.jupyter.widget-view+json": {
       "model_id": "aa8e831b06a94147a33fc4d3dfa3294b",
       "version_major": 2,
       "version_minor": 0
      },
      "text/plain": [
       "Viewer(geometries=[], gradient_opacity=0.22, point_sets=[], rendered_image=<itk.itkImagePython.itkImageUC2; pr…"
      ]
     },
     "execution_count": 10,
     "metadata": {},
     "output_type": "execute_result"
    }
   ],
   "source": [
    "rescaled_image = rescaler.GetOutput()\n",
    "view(rescaled_image)\n"
   ]
  },
  {
   "cell_type": "markdown",
   "metadata": {},
   "source": [
    "Neighbourhood Connected Image Filter"
   ]
  },
  {
   "cell_type": "code",
   "execution_count": 11,
   "metadata": {},
   "outputs": [],
   "source": [
    "InputPixelType = itk.F\n",
    "OutputPixelType = itk.UC\n",
    "Dimension = 2\n",
    "file_name = 'data/BrainProtonDensitySlice.png'\n",
    "\n",
    "InputImageType = itk.Image[InputPixelType, Dimension]\n",
    "\n",
    "reader = itk.ImageFileReader[InputImageType].New()\n",
    "reader.SetFileName(file_name)\n",
    "\n",
    "smoothing = itk.CurvatureFlowImageFilter[InputImageType, InputImageType].New()\n",
    "smoothing.SetInput(reader.GetOutput())\n",
    "smoothing.SetNumberOfIterations(5)\n",
    "smoothing.SetTimeStep(0.125)\n",
    "\n",
    "\n",
    "neighbourhood_connected = itk.NeighborhoodConnectedImageFilter[InputImageType, InputImageType].New()\n",
    "neighbourhood_connected.SetInput(smoothing.GetOutput())\n",
    "neighbourhood_connected.SetLower(150)\n",
    "neighbourhood_connected.SetUpper(180)\n",
    "neighbourhood_connected.SetRadius([2,2])\n",
    "neighbourhood_connected.SetSeed((60,116))\n",
    "neighbourhood_connected.SetReplaceValue(255)"
   ]
  },
  {
   "cell_type": "code",
   "execution_count": 12,
   "metadata": {},
   "outputs": [
    {
     "data": {
      "application/vnd.jupyter.widget-view+json": {
       "model_id": "f814e28f65bc403dacf3786b1204c1bf",
       "version_major": 2,
       "version_minor": 0
      },
      "text/plain": [
       "Viewer(geometries=[], gradient_opacity=0.22, point_sets=[], rendered_image=<itk.itkImagePython.itkImageF2; pro…"
      ]
     },
     "execution_count": 12,
     "metadata": {},
     "output_type": "execute_result"
    }
   ],
   "source": [
    "neighbourhood_connected.Update()\n",
    "view(neighbourhood_connected)"
   ]
  },
  {
   "cell_type": "markdown",
   "metadata": {},
   "source": [
    "Confidence Connected Image Filter"
   ]
  },
  {
   "cell_type": "code",
   "execution_count": 13,
   "metadata": {},
   "outputs": [],
   "source": [
    "PixelType = itk.UC\n",
    "Dimension = 2\n",
    "file_name = 'data/BrainProtonDensitySlice.png'\n",
    "\n",
    "ImageType = itk.Image[PixelType, Dimension]\n",
    "\n",
    "reader = itk.ImageFileReader[ImageType].New()\n",
    "reader.SetFileName(file_name)\n",
    "\n",
    "confidence_connected = itk.ConfidenceConnectedImageFilter[ImageType, ImageType].New()\n",
    "confidence_connected.SetInput(reader.GetOutput())\n",
    "confidence_connected.SetMultiplier(2.3)\n",
    "confidence_connected.SetNumberOfIterations(5)\n",
    "confidence_connected.SetInitialNeighborhoodRadius(2)\n",
    "confidence_connected.SetReplaceValue(255)"
   ]
  },
  {
   "cell_type": "code",
   "execution_count": 14,
   "metadata": {},
   "outputs": [],
   "source": [
    "confidence_connected.SetSeed([60,116])"
   ]
  },
  {
   "cell_type": "code",
   "execution_count": 15,
   "metadata": {},
   "outputs": [
    {
     "data": {
      "application/vnd.jupyter.widget-view+json": {
       "model_id": "71e9b61c319744059ad05918c7a13c37",
       "version_major": 2,
       "version_minor": 0
      },
      "text/plain": [
       "Viewer(geometries=[], gradient_opacity=0.22, point_sets=[], rendered_image=<itk.itkImagePython.itkImageUC2; pr…"
      ]
     },
     "execution_count": 15,
     "metadata": {},
     "output_type": "execute_result"
    }
   ],
   "source": [
    "confidence_connected.Update()\n",
    "\n",
    "view(confidence_connected)"
   ]
  },
  {
   "cell_type": "code",
   "execution_count": 22,
   "metadata": {},
   "outputs": [],
   "source": [
    "Dimension = 2\n",
    "file_name = 'data/BrainProtonDensitySlice.png'\n",
    "FloatPixelType = itk.ctype(\"float\")\n",
    "FloatImageType = itk.Image[FloatPixelType, Dimension]\n",
    "\n",
    "reader = itk.ImageFileReader[FloatImageType].New()\n",
    "reader.SetFileName(file_name)\n",
    "\n",
    "gradientMagnitude = itk.GradientMagnitudeImageFilter.New(Input=reader.GetOutput())\n",
    "watershed = itk.WatershedImageFilter.New(Input=gradientMagnitude.GetOutput())\n",
    "\n",
    "threshold = 0.005\n",
    "level = 0.2\n",
    "watershed.SetThreshold(threshold)\n",
    "watershed.SetLevel(level)\n",
    "\n",
    "LabeledImageType = type(watershed.GetOutput())\n",
    "\n",
    "PixelType = itk.ctype(\"unsigned char\")\n",
    "RGBPixelType = itk.RGBPixel[PixelType]\n",
    "RGBImageType = itk.Image[RGBPixelType, Dimension]\n",
    "\n",
    "ScalarToRGBColormapFilterType = itk.ScalarToRGBColormapImageFilter[\n",
    "    LabeledImageType, RGBImageType\n",
    "]\n",
    "colormapImageFilter = ScalarToRGBColormapFilterType.New()\n",
    "colormapImageFilter.SetColormap(\n",
    "    itk.ScalarToRGBColormapImageFilterEnums.RGBColormapFilter_Jet\n",
    ")\n",
    "colormapImageFilter.SetInput(watershed.GetOutput())\n",
    "colormapImageFilter.Update()\n",
    "\n"
   ]
  },
  {
   "cell_type": "code",
   "execution_count": 23,
   "metadata": {},
   "outputs": [
    {
     "data": {
      "application/vnd.jupyter.widget-view+json": {
       "model_id": "74b7df249f6b410a921b41054feac31b",
       "version_major": 2,
       "version_minor": 0
      },
      "text/plain": [
       "Viewer(geometries=[], gradient_opacity=0.22, point_sets=[], rendered_image=<itk.itkImagePython.itkImageF2; pro…"
      ]
     },
     "execution_count": 23,
     "metadata": {},
     "output_type": "execute_result"
    }
   ],
   "source": [
    "view(reader.GetOutput())"
   ]
  },
  {
   "cell_type": "code",
   "execution_count": 24,
   "metadata": {},
   "outputs": [
    {
     "data": {
      "application/vnd.jupyter.widget-view+json": {
       "model_id": "85fda432cb1c4c5a92cc4acdace542e5",
       "version_major": 2,
       "version_minor": 0
      },
      "text/plain": [
       "Viewer(geometries=[], gradient_opacity=0.22, point_sets=[], rendered_image=<itk.itkImagePython.itkImageRGBUC2;…"
      ]
     },
     "execution_count": 24,
     "metadata": {},
     "output_type": "execute_result"
    }
   ],
   "source": [
    "\n",
    "view(colormapImageFilter.GetOutput())"
   ]
  },
  {
   "cell_type": "code",
   "execution_count": null,
   "metadata": {},
   "outputs": [],
   "source": [
    "Dimension = 2\n",
    "\n",
    "InputPixelType = itk.F\n",
    "OutputPixelType = itk.UC\n",
    "\n",
    "InputImageType = itk.Image[InputPixelType, Dimension]\n",
    "OutputImageType = itk.Image[OutputPixelType, Dimension]\n",
    "\n",
    "ReaderType = itk.ImageFileReader[InputImageType]\n",
    "WriterType = itk.ImageFileWriter[OutputImageType]\n",
    "\n",
    "reader = ReaderType.New()\n",
    "reader.SetFileName('data/BrainProtonDensitySlice.png')\n",
    "\n",
    "SmoothingFilterType = itk.CurvatureAnisotropicDiffusionImageFilter[\n",
    "    InputImageType, InputImageType\n",
    "]\n",
    "smoothing = SmoothingFilterType.New()\n",
    "smoothing.SetTimeStep(0.125)\n",
    "smoothing.SetNumberOfIterations(5)\n",
    "smoothing.SetConductanceParameter(9.0)\n",
    "smoothing.SetInput(reader.GetOutput())\n",
    "\n",
    "GradientFilterType = itk.GradientMagnitudeRecursiveGaussianImageFilter[\n",
    "    InputImageType, InputImageType\n",
    "]\n",
    "gradientMagnitude = GradientFilterType.New()\n",
    "gradientMagnitude.SetSigma(args.sigma)\n",
    "gradientMagnitude.SetInput(smoothing.GetOutput())\n",
    "\n",
    "SigmoidFilterType = itk.SigmoidImageFilter[InputImageType, InputImageType]\n",
    "sigmoid = SigmoidFilterType.New()\n",
    "sigmoid.SetOutputMinimum(0.0)\n",
    "sigmoid.SetOutputMaximum(1.0)\n",
    "sigmoid.SetAlpha(args.sigmoid_alpha)\n",
    "sigmoid.SetBeta(args.sigmoid_beta)\n",
    "sigmoid.SetInput(gradientMagnitude.GetOutput())\n",
    "\n",
    "FastMarchingFilterType = itk.FastMarchingImageFilter[InputImageType, InputImageType]\n",
    "fastMarching = FastMarchingFilterType.New()\n",
    "\n",
    "GeoActiveContourFilterType = itk.GeodesicActiveContourLevelSetImageFilter[\n",
    "    InputImageType, InputImageType, InputPixelType\n",
    "]\n",
    "geodesicActiveContour = GeoActiveContourFilterType.New()\n",
    "geodesicActiveContour.SetPropagationScaling(args.propagation_scaling)\n",
    "geodesicActiveContour.SetCurvatureScaling(1.0)\n",
    "geodesicActiveContour.SetAdvectionScaling(1.0)\n",
    "geodesicActiveContour.SetMaximumRMSError(0.02)\n",
    "geodesicActiveContour.SetNumberOfIterations(args.number_of_iterations)\n",
    "geodesicActiveContour.SetInput(fastMarching.GetOutput())\n",
    "geodesicActiveContour.SetFeatureImage(sigmoid.GetOutput())\n",
    "\n",
    "ThresholdingFilterType = itk.BinaryThresholdImageFilter[InputImageType, OutputImageType]\n",
    "thresholder = ThresholdingFilterType.New()\n",
    "thresholder.SetLowerThreshold(-1000.0)\n",
    "thresholder.SetUpperThreshold(0.0)\n",
    "thresholder.SetOutsideValue(itk.NumericTraits[OutputPixelType].min())\n",
    "thresholder.SetInsideValue(itk.NumericTraits[OutputPixelType].max())\n",
    "thresholder.SetInput(geodesicActiveContour.GetOutput())\n",
    "\n",
    "seedPosition = itk.Index[Dimension]()\n",
    "seedPosition[0] = args.seed_x\n",
    "seedPosition[1] = args.seed_y\n",
    "\n",
    "node = itk.LevelSetNode[InputPixelType, Dimension]()\n",
    "node.SetValue(seedValue)\n",
    "node.SetIndex(seedPosition)\n",
    "\n",
    "seeds = itk.VectorContainer[itk.UI, itk.LevelSetNode[InputPixelType, Dimension]].New()\n",
    "seeds.Initialize()\n",
    "seeds.InsertElement(0, node)\n",
    "\n",
    "fastMarching.SetTrialPoints(seeds)\n",
    "fastMarching.SetSpeedConstant(1.0)\n",
    "\n",
    "CastFilterType = itk.RescaleIntensityImageFilter[InputImageType, OutputImageType]\n",
    "\n",
    "caster1 = CastFilterType.New()\n",
    "caster2 = CastFilterType.New()\n",
    "caster3 = CastFilterType.New()\n",
    "caster4 = CastFilterType.New()\n",
    "\n",
    "writer1 = WriterType.New()\n",
    "writer2 = WriterType.New()\n",
    "writer3 = WriterType.New()\n",
    "writer4 = WriterType.New()\n",
    "\n",
    "caster1.SetInput(smoothing.GetOutput())\n",
    "writer1.SetInput(caster1.GetOutput())\n",
    "writer1.SetFileName(\"GeodesicActiveContourImageFilterOutput1.png\")\n",
    "caster1.SetOutputMinimum(itk.NumericTraits[OutputPixelType].min())\n",
    "caster1.SetOutputMaximum(itk.NumericTraits[OutputPixelType].max())\n",
    "writer1.Update()\n",
    "\n",
    "caster2.SetInput(gradientMagnitude.GetOutput())\n",
    "writer2.SetInput(caster2.GetOutput())\n",
    "writer2.SetFileName(\"GeodesicActiveContourImageFilterOutput2.png\")\n",
    "caster2.SetOutputMinimum(itk.NumericTraits[OutputPixelType].min())\n",
    "caster2.SetOutputMaximum(itk.NumericTraits[OutputPixelType].max())\n",
    "writer2.Update()\n",
    "\n",
    "caster3.SetInput(sigmoid.GetOutput())\n",
    "writer3.SetInput(caster3.GetOutput())\n",
    "writer3.SetFileName(\"GeodesicActiveContourImageFilterOutput3.png\")\n",
    "caster3.SetOutputMinimum(itk.NumericTraits[OutputPixelType].min())\n",
    "caster3.SetOutputMaximum(itk.NumericTraits[OutputPixelType].max())\n",
    "writer3.Update()\n",
    "\n",
    "caster4.SetInput(fastMarching.GetOutput())\n",
    "writer4.SetInput(caster4.GetOutput())\n",
    "writer4.SetFileName(\"GeodesicActiveContourImageFilterOutput4.png\")\n",
    "caster4.SetOutputMinimum(itk.NumericTraits[OutputPixelType].min())\n",
    "caster4.SetOutputMaximum(itk.NumericTraits[OutputPixelType].max())\n",
    "\n",
    "fastMarching.SetOutputSize(reader.GetOutput().GetBufferedRegion().GetSize())\n",
    "\n",
    "writer = WriterType.New()\n",
    "writer.SetFileName(args.output_image)\n",
    "writer.SetInput(thresholder.GetOutput())\n",
    "writer.Update()\n",
    "\n",
    "print(\n",
    "    \"Max. no. iterations: \" + str(geodesicActiveContour.GetNumberOfIterations()) + \"\\n\"\n",
    ")\n",
    "print(\"Max. RMS error: \" + str(geodesicActiveContour.GetMaximumRMSError()) + \"\\n\")\n",
    "print(\n",
    "    \"No. elpased iterations: \"\n",
    "    + str(geodesicActiveContour.GetElapsedIterations())\n",
    "    + \"\\n\"\n",
    ")\n",
    "print(\"RMS change: \" + str(geodesicActiveContour.GetRMSChange()) + \"\\n\")\n",
    "\n",
    "writer4.Update()\n",
    "\n",
    "InternalWriterType = itk.ImageFileWriter[InputImageType]\n",
    "\n",
    "mapWriter = InternalWriterType.New()\n",
    "mapWriter.SetInput(fastMarching.GetOutput())\n",
    "mapWriter.SetFileName(\"GeodesicActiveContourImageFilterOutput4.mha\")\n",
    "mapWriter.Update()\n",
    "\n",
    "speedWriter = InternalWriterType.New()\n",
    "speedWriter.SetInput(sigmoid.GetOutput())\n",
    "speedWriter.SetFileName(\"GeodesicActiveContourImageFilterOutput3.mha\")\n",
    "speedWriter.Update()\n",
    "\n",
    "gradientWriter = InternalWriterType.New()\n",
    "gradientWriter.SetInput(gradientMagnitude.GetOutput())\n",
    "gradientWriter.SetFileName(\"GeodesicActiveContourImageFilterOutput2.mha\")\n",
    "gradientWriter.Update()"
   ]
  }
 ],
 "metadata": {
  "kernelspec": {
   "display_name": "Python 3.8.15 ('Medical')",
   "language": "python",
   "name": "python3"
  },
  "language_info": {
   "codemirror_mode": {
    "name": "ipython",
    "version": 3
   },
   "file_extension": ".py",
   "mimetype": "text/x-python",
   "name": "python",
   "nbconvert_exporter": "python",
   "pygments_lexer": "ipython3",
   "version": "3.8.15 (default, Nov  4 2022, 15:16:59) [MSC v.1916 64 bit (AMD64)]"
  },
  "orig_nbformat": 4,
  "vscode": {
   "interpreter": {
    "hash": "ec4f58dc73515f8094c8f82164e1fc7553ca8802971ec9173e4a9a8ebedb5c97"
   }
  }
 },
 "nbformat": 4,
 "nbformat_minor": 2
}
